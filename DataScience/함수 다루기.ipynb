{
 "cells": [
  {
   "cell_type": "code",
   "execution_count": 1,
   "metadata": {},
   "outputs": [
    {
     "name": "stdout",
     "output_type": "stream",
     "text": [
      "30\n"
     ]
    }
   ],
   "source": [
    "print(10+20)"
   ]
  },
  {
   "cell_type": "code",
   "execution_count": 3,
   "metadata": {},
   "outputs": [],
   "source": [
    "def add():\n",
    "    print(\"나를 호출하셨군요...\")"
   ]
  },
  {
   "cell_type": "code",
   "execution_count": 4,
   "metadata": {},
   "outputs": [
    {
     "name": "stdout",
     "output_type": "stream",
     "text": [
      "나를 호출하셨군요...\n"
     ]
    }
   ],
   "source": [
    "add()"
   ]
  },
  {
   "cell_type": "code",
   "execution_count": 24,
   "metadata": {},
   "outputs": [],
   "source": [
    "def add2(x, y):\n",
    "    print(\"두 수의 합은: \",x+y)\n",
    "def minus(x, y):\n",
    "    print(\"두수의 차는:\", x-y)\n",
    "def mul(x, y):\n",
    "    print(\"두수의 곱은:\", x*y)\n",
    "def div(x, y):\n",
    "    print(\"두수의 나눗셈은:\", x/y)"
   ]
  },
  {
   "cell_type": "code",
   "execution_count": 25,
   "metadata": {},
   "outputs": [
    {
     "name": "stdout",
     "output_type": "stream",
     "text": [
      "두수의 곱은: 20000\n"
     ]
    }
   ],
   "source": [
    "mul(100, 200)"
   ]
  },
  {
   "cell_type": "code",
   "execution_count": 27,
   "metadata": {},
   "outputs": [
    {
     "name": "stdout",
     "output_type": "stream",
     "text": [
      "숫자1 입력: 200\n",
      "숫자2 입력: 100\n"
     ]
    }
   ],
   "source": [
    "num1 = input(\"숫자1 입력: \")\n",
    "num2 = input(\"숫자2 입력: \")"
   ]
  },
  {
   "cell_type": "code",
   "execution_count": 29,
   "metadata": {},
   "outputs": [],
   "source": [
    "n1 = int(num1)\n",
    "n2 = int(num2)"
   ]
  },
  {
   "cell_type": "code",
   "execution_count": 33,
   "metadata": {},
   "outputs": [
    {
     "name": "stdout",
     "output_type": "stream",
     "text": [
      "300\n"
     ]
    }
   ],
   "source": [
    "print(n1 + n2)"
   ]
  },
  {
   "cell_type": "code",
   "execution_count": 36,
   "metadata": {},
   "outputs": [
    {
     "name": "stdout",
     "output_type": "stream",
     "text": [
      "연산자를 입력:+, -. X, / 중 하나/\n"
     ]
    }
   ],
   "source": [
    "oper = input(\"연산자를 입력:+, -. X, / 중 하나\")"
   ]
  },
  {
   "cell_type": "code",
   "execution_count": 37,
   "metadata": {},
   "outputs": [
    {
     "name": "stdout",
     "output_type": "stream",
     "text": [
      "두수의 나눗셈은: 2.0\n"
     ]
    }
   ],
   "source": [
    "if oper == \"+\":\n",
    "    add2(n1, n2)\n",
    "if oper == \"-\":\n",
    "    minus(n1, n2)\n",
    "if oper == \"X\":\n",
    "    mul(n1, n2)\n",
    "if oper == \"/\":\n",
    "    div(n1, n2)"
   ]
  },
  {
   "cell_type": "code",
   "execution_count": 46,
   "metadata": {},
   "outputs": [],
   "source": [
    "def foodTotal(person) :\n",
    "    price = 5000\n",
    "    return person * price"
   ]
  },
  {
   "cell_type": "code",
   "execution_count": 68,
   "metadata": {},
   "outputs": [],
   "source": [
    "total = foodTotal(11)"
   ]
  },
  {
   "cell_type": "code",
   "execution_count": 69,
   "metadata": {},
   "outputs": [
    {
     "name": "stdout",
     "output_type": "stream",
     "text": [
      "당신의 금액은  50000 원 입니다\n"
     ]
    }
   ],
   "source": [
    "if(total >= 50000):\n",
    "    print(\"당신의 금액은 \", total-5000, \"원 입니다\")\n",
    "else :\n",
    "    print(\"당신의 금액은 \", total, \"원 입니다\")"
   ]
  },
  {
   "cell_type": "code",
   "execution_count": 57,
   "metadata": {},
   "outputs": [],
   "source": [
    "hobby = [\"승마\",\"달리기\",\"등산\",\"먹기\"]"
   ]
  },
  {
   "cell_type": "code",
   "execution_count": 58,
   "metadata": {},
   "outputs": [
    {
     "name": "stdout",
     "output_type": "stream",
     "text": [
      "승마\n",
      "달리기\n",
      "등산\n",
      "먹기\n"
     ]
    }
   ],
   "source": [
    "for X in hobby:\n",
    "    print(X)"
   ]
  },
  {
   "cell_type": "code",
   "execution_count": 59,
   "metadata": {},
   "outputs": [],
   "source": [
    "hobby[3]=\"걷기\""
   ]
  },
  {
   "cell_type": "code",
   "execution_count": 61,
   "metadata": {},
   "outputs": [],
   "source": [
    "hobby.append(\"날기\")"
   ]
  },
  {
   "cell_type": "code",
   "execution_count": 62,
   "metadata": {
    "scrolled": true
   },
   "outputs": [
    {
     "name": "stdout",
     "output_type": "stream",
     "text": [
      "승마\n",
      "달리기\n",
      "등산\n",
      "걷기\n",
      "날기\n"
     ]
    }
   ],
   "source": [
    "for X in hobby:\n",
    "    print(X)"
   ]
  },
  {
   "cell_type": "code",
   "execution_count": 63,
   "metadata": {},
   "outputs": [
    {
     "name": "stdout",
     "output_type": "stream",
     "text": [
      "['승마', '달리기']\n"
     ]
    }
   ],
   "source": [
    "print(hobby[0:2])"
   ]
  },
  {
   "cell_type": "code",
   "execution_count": 80,
   "metadata": {},
   "outputs": [],
   "source": [
    "email = [\"hera@naver.com\"]"
   ]
  },
  {
   "cell_type": "code",
   "execution_count": 81,
   "metadata": {},
   "outputs": [],
   "source": [
    "email2 =[]"
   ]
  },
  {
   "cell_type": "code",
   "execution_count": 83,
   "metadata": {},
   "outputs": [
    {
     "name": "stdout",
     "output_type": "stream",
     "text": [
      "이메일 입력1gardenpro@daum.net\n"
     ]
    }
   ],
   "source": [
    "data1 = input(\"이메일 입력1\")"
   ]
  },
  {
   "cell_type": "code",
   "execution_count": 84,
   "metadata": {},
   "outputs": [
    {
     "name": "stdout",
     "output_type": "stream",
     "text": [
      "이메일 입력2korea@korea.co.kr\n"
     ]
    }
   ],
   "source": [
    "data2 = input(\"이메일 입력2\")"
   ]
  },
  {
   "cell_type": "code",
   "execution_count": 85,
   "metadata": {},
   "outputs": [],
   "source": [
    "email.append(data1)"
   ]
  },
  {
   "cell_type": "code",
   "execution_count": 86,
   "metadata": {},
   "outputs": [],
   "source": [
    "email.append(data2)"
   ]
  },
  {
   "cell_type": "code",
   "execution_count": 88,
   "metadata": {},
   "outputs": [
    {
     "data": {
      "text/plain": [
       "3"
      ]
     },
     "execution_count": 88,
     "metadata": {},
     "output_type": "execute_result"
    }
   ],
   "source": [
    "len(email)"
   ]
  },
  {
   "cell_type": "code",
   "execution_count": 89,
   "metadata": {},
   "outputs": [
    {
     "data": {
      "text/plain": [
       "['hera@naver.com', 'gardenpro@daum.net', 'korea@korea.co.kr']"
      ]
     },
     "execution_count": 89,
     "metadata": {},
     "output_type": "execute_result"
    }
   ],
   "source": [
    "email"
   ]
  },
  {
   "cell_type": "code",
   "execution_count": 99,
   "metadata": {},
   "outputs": [
    {
     "name": "stdout",
     "output_type": "stream",
     "text": [
      "hera@naver.com 는 닷컴회사이군요.\n",
      "gardenpro@daum.net 는 닷넷회사이군요.\n",
      "korea@korea.co.kr 는 한국에 있는 회사이군요.\n"
     ]
    }
   ],
   "source": [
    "for e in email:\n",
    "    if (e.endswith(\".com\")):\n",
    "        print(e, \"는 닷컴회사이군요.\")\n",
    "    elif(e.endswith(\".net\")):\n",
    "        print(e, \"는 닷넷회사이군요.\")\n",
    "    elif(e.endswith(\".kr\")) :\n",
    "        print(e, \"는 한국에 있는 회사이군요.\")\n",
    "    else:\n",
    "        print(e, \"는 잘 모르겠어요.\")"
   ]
  },
  {
   "cell_type": "code",
   "execution_count": null,
   "metadata": {},
   "outputs": [],
   "source": []
  }
 ],
 "metadata": {
  "kernelspec": {
   "display_name": "Python 3",
   "language": "python",
   "name": "python3"
  },
  "language_info": {
   "codemirror_mode": {
    "name": "ipython",
    "version": 3
   },
   "file_extension": ".py",
   "mimetype": "text/x-python",
   "name": "python",
   "nbconvert_exporter": "python",
   "pygments_lexer": "ipython3",
   "version": "3.7.0"
  }
 },
 "nbformat": 4,
 "nbformat_minor": 2
}
